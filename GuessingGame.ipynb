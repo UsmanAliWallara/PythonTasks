{
 "cells": [
  {
   "cell_type": "code",
   "execution_count": 1,
   "metadata": {},
   "outputs": [
    {
     "name": "stdout",
     "output_type": "stream",
     "text": [
      "Enter a nuumber:3\n",
      "You Lose..! Life Left 2\n",
      "Enter a nuumber:2\n",
      "You Lose..! Life Left 1\n",
      "Enter a nuumber:2\n",
      "You Lose..! Life Left 0\n",
      "Game Over...!\n"
     ]
    }
   ],
   "source": [
    "import random as rd\n",
    "win = 1\n",
    "\n",
    "for x in range(3):\n",
    "    y = rd.randrange(1,11)\n",
    "    num = int(input('Enter a nuumber:'))\n",
    "    \n",
    "    if y == num:\n",
    "        print('You Won...!')\n",
    "        break\n",
    "        \n",
    "    else:\n",
    "        print('You Lose..!','Life Left',-x+2)\n",
    "        win = 0 \n",
    "if win == 0:\n",
    "    print('Game Over...!')\n"
   ]
  },
  {
   "cell_type": "code",
   "execution_count": null,
   "metadata": {},
   "outputs": [],
   "source": []
  }
 ],
 "metadata": {
  "kernelspec": {
   "display_name": "Python 3",
   "language": "python",
   "name": "python3"
  },
  "language_info": {
   "codemirror_mode": {
    "name": "ipython",
    "version": 3
   },
   "file_extension": ".py",
   "mimetype": "text/x-python",
   "name": "python",
   "nbconvert_exporter": "python",
   "pygments_lexer": "ipython3",
   "version": "3.7.3"
  }
 },
 "nbformat": 4,
 "nbformat_minor": 2
}
